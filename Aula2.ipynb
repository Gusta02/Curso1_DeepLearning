{
  "nbformat": 4,
  "nbformat_minor": 0,
  "metadata": {
    "colab": {
      "name": "Aula2.ipynb",
      "provenance": [],
      "authorship_tag": "ABX9TyO/tOHxSgBjWqvxa1yrOzkb",
      "include_colab_link": true
    },
    "kernelspec": {
      "name": "python3",
      "display_name": "Python 3"
    },
    "language_info": {
      "name": "python"
    }
  },
  "cells": [
    {
      "cell_type": "markdown",
      "metadata": {
        "id": "view-in-github",
        "colab_type": "text"
      },
      "source": [
        "<a href=\"https://colab.research.google.com/github/Gusta02/Curso1_DeepLearning/blob/main/Aula2.ipynb\" target=\"_parent\"><img src=\"https://colab.research.google.com/assets/colab-badge.svg\" alt=\"Open In Colab\"/></a>"
      ]
    },
    {
      "cell_type": "code",
      "metadata": {
        "colab": {
          "base_uri": "https://localhost:8080/"
        },
        "id": "OrSxwn4_mROP",
        "outputId": "36d25176-8d3f-463b-b9e1-9eb42f4b9c37"
      },
      "source": [
        "import torch\n",
        "tns = torch.randn(9, 12)\n",
        "tns1 = tns[0:5, 0:4]\n",
        "tns2 = tns[5:, 4:]\n",
        "\n",
        "resultado = torch.mm(tns1, tns2)\n",
        "print(resultado.size())"
      ],
      "execution_count": 1,
      "outputs": [
        {
          "output_type": "stream",
          "name": "stdout",
          "text": [
            "torch.Size([5, 8])\n"
          ]
        }
      ]
    },
    {
      "cell_type": "markdown",
      "metadata": {
        "id": "6aOEFJlOmry7"
      },
      "source": [
        "# Sintaxe básica do Pytorch\n",
        "\n",
        "Assim como o NumPy, o Pytorch é uma biblioteca de processamento vetorial/matricial/tensorial. Operações sobre os tensores do Pytorch possuem sintaxe consideravelmente parecida com operações sobre tensores do NumPy.\n",
        "\n",
        "Para mais informações sobre tensores em PyTorch, consulte a documentação: <br> https://pytorch.org/docs/stable/tensors.html\n",
        "\n"
      ]
    },
    {
      "cell_type": "markdown",
      "metadata": {
        "id": "GDPMsx8TmvNq"
      },
      "source": [
        "## Tipos de tensores \n",
        "\n",
        "Você pode criar tensores do PyTorch de inúmeras formas! Vamos ver primeiro os tipos de tensores que estão ao nosso dispor. Para isso, vamos converter listas comuns do Python em tensors do PyTorch.\n",
        "\n",
        "Note que a impressão de tensores dos tipos ```float32``` e ```int64``` não vêm acompanhadas do parâmetro de tipo ```dtype```, visto que se tratam dos tipos padrão trabalhados pelo PyTorch."
      ]
    },
    {
      "cell_type": "code",
      "metadata": {
        "colab": {
          "base_uri": "https://localhost:8080/"
        },
        "id": "l8uNkVvMmvpF",
        "outputId": "863edd40-6252-461a-8062-e729bb8a2d18"
      },
      "source": [
        "import torch\n",
        "lista = [ [1,2,3],\n",
        "          [4,5,6] ]\n",
        "\n",
        "tns = torch.Tensor(lista)\n",
        "print(tns.dtype)\n",
        "print(tns)\n",
        "\n",
        "print('')\n",
        "tns = torch.DoubleTensor(lista)\n",
        "print(tns.dtype)\n",
        "print(tns)\n",
        "\n",
        "print('')\n",
        "tns = torch.LongTensor(lista)\n",
        "print(tns.dtype)\n",
        "print(tns)\n"
      ],
      "execution_count": 2,
      "outputs": [
        {
          "output_type": "stream",
          "name": "stdout",
          "text": [
            "torch.float32\n",
            "tensor([[1., 2., 3.],\n",
            "        [4., 5., 6.]])\n",
            "\n",
            "torch.float64\n",
            "tensor([[1., 2., 3.],\n",
            "        [4., 5., 6.]], dtype=torch.float64)\n",
            "\n",
            "torch.int64\n",
            "tensor([[1, 2, 3],\n",
            "        [4, 5, 6]])\n"
          ]
        }
      ]
    },
    {
      "cell_type": "markdown",
      "metadata": {
        "id": "6b_n-8h9mzT7"
      },
      "source": [
        "## Outras formas de instanciar tensores\n",
        "\n",
        "### A partir de arrays Numpy\n",
        "$torch.from\\_numpy()$ \n",
        "\n",
        "\n"
      ]
    },
    {
      "cell_type": "code",
      "metadata": {
        "colab": {
          "base_uri": "https://localhost:8080/"
        },
        "id": "wIgtMbKmmxiu",
        "outputId": "265b3a4e-d971-4d89-e13b-92b9a26583a4"
      },
      "source": [
        "import numpy as np\n",
        "\n",
        "arr = np.random.rand(3,4)\n",
        "arr = arr.astype(int)\n",
        "print(arr)\n",
        "print(arr.dtype)\n",
        "\n",
        "print('')\n",
        "tns = torch.from_numpy(arr)\n",
        "print(tns)\n",
        "print(tns.dtype)"
      ],
      "execution_count": 3,
      "outputs": [
        {
          "output_type": "stream",
          "name": "stdout",
          "text": [
            "[[0 0 0 0]\n",
            " [0 0 0 0]\n",
            " [0 0 0 0]]\n",
            "int64\n",
            "\n",
            "tensor([[0, 0, 0, 0],\n",
            "        [0, 0, 0, 0],\n",
            "        [0, 0, 0, 0]])\n",
            "torch.int64\n"
          ]
        }
      ]
    },
    {
      "cell_type": "markdown",
      "metadata": {
        "id": "QqpwrCxLnC9U"
      },
      "source": [
        "### Tensores inicializados\n",
        "Essas funções recebem como parâmetro o tamanho de cada dimensão do tensor. Aqui vamos conhecer as seguintes funções:\n",
        "\n",
        "$torch.ones()$ -> Cria um tensor preenchido com zeros.\n",
        "\n",
        "$torch.zeros()$ -> Cria um tensor preenchido com uns.\n",
        "\n",
        "$torch.randn()$ -> Cria um tensor preenchido com números aleatórios a partir de uma distribuição normal."
      ]
    },
    {
      "cell_type": "code",
      "metadata": {
        "colab": {
          "base_uri": "https://localhost:8080/"
        },
        "id": "QBaMI84xm-R-",
        "outputId": "64e3ea2d-efbb-4976-9364-86e80438483b"
      },
      "source": [
        "tns1 = torch.ones(2, 3)\n",
        "tns0 = torch.zeros(3, 5)\n",
        "tnsr = torch.randn(3, 3)\n",
        "\n",
        "print(tns1)\n",
        "print(tns0)\n",
        "print(tnsr)"
      ],
      "execution_count": 6,
      "outputs": [
        {
          "output_type": "stream",
          "name": "stdout",
          "text": [
            "tensor([[1., 1., 1.],\n",
            "        [1., 1., 1.]])\n",
            "tensor([[0., 0., 0., 0., 0.],\n",
            "        [0., 0., 0., 0., 0.],\n",
            "        [0., 0., 0., 0., 0.]])\n",
            "tensor([[-0.3837,  1.1755,  1.7473],\n",
            "        [ 1.3139,  0.5701,  0.5211],\n",
            "        [-0.4254, -0.0954,  1.5947]])\n"
          ]
        }
      ]
    },
    {
      "cell_type": "markdown",
      "metadata": {
        "id": "LS1kE3AKnFsB"
      },
      "source": [
        "### Tensor para array numpy"
      ]
    },
    {
      "cell_type": "code",
      "metadata": {
        "colab": {
          "base_uri": "https://localhost:8080/"
        },
        "id": "1N-QUG2Am_x9",
        "outputId": "8f887149-e7f6-475a-e3a4-dc8e021c1421"
      },
      "source": [
        "arr = tnsr.data.numpy()\n",
        "print(arr)"
      ],
      "execution_count": 5,
      "outputs": [
        {
          "output_type": "stream",
          "name": "stdout",
          "text": [
            "[[-0.95757633  1.2195816  -0.32937554]\n",
            " [-0.5459742  -0.7567095  -2.0647259 ]\n",
            " [ 1.1688416  -0.577721    1.0127696 ]]\n"
          ]
        }
      ]
    },
    {
      "cell_type": "markdown",
      "metadata": {
        "id": "gcWt5ZVRnGe0"
      },
      "source": [
        "## Indexação\n",
        "\n",
        "De posse dessa informação, a indexação é feita de forma similar a arrays Numpy, através da sintaxe de colchetes ```[]```."
      ]
    },
    {
      "cell_type": "code",
      "metadata": {
        "colab": {
          "base_uri": "https://localhost:8080/"
        },
        "id": "XLoO-A4mnCIs",
        "outputId": "2bb6d25f-49ac-4437-d589-67e9d133ffe4"
      },
      "source": [
        "# tnsr[0,1]\n",
        "\n",
        "print(tnsr[0:2, 2].data.numpy())\n",
        "print(tnsr[0, 1].item())"
      ],
      "execution_count": 7,
      "outputs": [
        {
          "output_type": "stream",
          "name": "stdout",
          "text": [
            "[1.7473328  0.52106196]\n",
            "1.1754591464996338\n"
          ]
        }
      ]
    },
    {
      "cell_type": "markdown",
      "metadata": {
        "id": "kJwlX6TfnoMc"
      },
      "source": [
        "## Operações com tensores\n",
        "\n",
        "A função ```.item()``` utilizada anteriormente extrai o número de um tensor que possui um único valor, permitindo realizar as operações numéricas do Python. Caso o item não seja extraído, operações que envolvam tensores vão retornar novos tensores.\n",
        "\n",
        "Vale ressaltar também que operações entre tensores são realizadas **ponto a ponto**, operando cada elemento ```(i, j)``` do tensor ```t1```, com o elemento ```(i, j)``` do tensor ```t2```.\n"
      ]
    },
    {
      "cell_type": "code",
      "metadata": {
        "colab": {
          "base_uri": "https://localhost:8080/"
        },
        "id": "5gMjN3Wfnex9",
        "outputId": "2ca8f111-4c4f-4683-d3ec-c685721364ab"
      },
      "source": [
        "tns1 = torch.randn(2,2,3)\n",
        "tns2 = torch.ones(2,2,3)\n",
        "\n",
        "print(tns1)\n",
        "print(tns2)\n",
        "\n",
        "print('')\n",
        "\n",
        "print(tns1*tns2)"
      ],
      "execution_count": 8,
      "outputs": [
        {
          "output_type": "stream",
          "name": "stdout",
          "text": [
            "tensor([[[ 0.0114, -1.0087,  0.7555],\n",
            "         [ 0.0335,  1.4312,  1.0724]],\n",
            "\n",
            "        [[ 0.2852,  1.5536,  0.3164],\n",
            "         [ 1.2174,  1.3349,  0.7734]]])\n",
            "tensor([[[1., 1., 1.],\n",
            "         [1., 1., 1.]],\n",
            "\n",
            "        [[1., 1., 1.],\n",
            "         [1., 1., 1.]]])\n",
            "\n",
            "tensor([[[ 0.0114, -1.0087,  0.7555],\n",
            "         [ 0.0335,  1.4312,  1.0724]],\n",
            "\n",
            "        [[ 0.2852,  1.5536,  0.3164],\n",
            "         [ 1.2174,  1.3349,  0.7734]]])\n"
          ]
        }
      ]
    },
    {
      "cell_type": "markdown",
      "metadata": {
        "id": "D4EMtA1knrKt"
      },
      "source": [
        "## Função ```.size()``` e ```.view()```\n",
        "\n",
        "Uma operações **importantíssima** na manipulação de tensores para Deep Learning é a reorganização das suas dimensões. Dessa forma podemos, por exemplo, **linearizar um tensor n-dimensional**."
      ]
    },
    {
      "cell_type": "code",
      "metadata": {
        "colab": {
          "base_uri": "https://localhost:8080/"
        },
        "id": "1lBZxDgQnikk",
        "outputId": "18cffaac-b7da-48af-83a3-6e9249442512"
      },
      "source": [
        "print(tns2.size())\n",
        "\n",
        "print(tns2.view(tns2.size(0), -1))"
      ],
      "execution_count": 9,
      "outputs": [
        {
          "output_type": "stream",
          "name": "stdout",
          "text": [
            "torch.Size([2, 2, 3])\n",
            "tensor([[1., 1., 1., 1., 1., 1.],\n",
            "        [1., 1., 1., 1., 1., 1.]])\n"
          ]
        }
      ]
    },
    {
      "cell_type": "markdown",
      "metadata": {
        "id": "kfdz2IDLnr6F"
      },
      "source": [
        "## GPU Cast\n",
        "\n",
        "Para que o seu script dê suporte a infraestruturas com e sem GPU, é importante definir o dispositivo no início do seu código de acordo com a verificação apresentada a seguir. Essa definição de dispositivo será utilizada toda vez que precisarmos subir valores na GPU, como os pesos da rede, os gradientes, etc."
      ]
    },
    {
      "cell_type": "code",
      "metadata": {
        "colab": {
          "base_uri": "https://localhost:8080/"
        },
        "id": "gfgM_pUAnkW8",
        "outputId": "971b497f-4794-4f0d-85a5-7473c7099c32"
      },
      "source": [
        "if torch.cuda.is_available():\n",
        "  device = torch.device('cuda')\n",
        "else:\n",
        "  device = torch.device('cpu')\n",
        "  \n",
        "print(device)\n",
        "tns2 = tns2.to(device)\n",
        "print(tns2)"
      ],
      "execution_count": 10,
      "outputs": [
        {
          "output_type": "stream",
          "name": "stdout",
          "text": [
            "cpu\n",
            "tensor([[[1., 1., 1.],\n",
            "         [1., 1., 1.]],\n",
            "\n",
            "        [[1., 1., 1.],\n",
            "         [1., 1., 1.]]])\n"
          ]
        }
      ]
    }
  ]
}